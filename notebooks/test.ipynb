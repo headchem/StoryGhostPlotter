{
 "cells": [
  {
   "cell_type": "code",
   "execution_count": null,
   "metadata": {
    "dotnet_interactive": {
     "language": "csharp"
    },
    "vscode": {
     "languageId": "dotnet-interactive.csharp"
    }
   },
   "outputs": [
    {
     "data": {
      "text/html": [
       "<div><div></div><div></div><div><strong>Installed Packages</strong><ul><li><span>Catalyst, 1.0.31087</span></li><li><span>Catalyst.Models.English, 1.0.30952</span></li></ul></div></div>"
      ]
     },
     "metadata": {},
     "output_type": "display_data"
    }
   ],
   "source": [
    "#r \"nuget: Catalyst, 1.0.31087\"\n",
    "#r \"nuget: Catalyst.Models.English, 1.0.30952\""
   ]
  },
  {
   "cell_type": "code",
   "execution_count": null,
   "metadata": {
    "dotnet_interactive": {
     "language": "csharp"
    },
    "vscode": {
     "languageId": "dotnet-interactive.csharp"
    }
   },
   "outputs": [],
   "source": [
    "\n",
    "using System;\n",
    "using System.Collections.Generic;\n",
    "using System.Linq;\n",
    "using System.Text;\n",
    "using System.Threading.Tasks;\n",
    "using Catalyst;\n",
    "using Catalyst.Models;\n",
    "using Version = Mosaik.Core.Version;\n",
    "using Mosaik.Core;\n",
    "using P = Catalyst.PatternUnitPrototype;\n",
    "using System.Globalization;\n",
    "using System.Text.RegularExpressions;"
   ]
  },
  {
   "cell_type": "code",
   "execution_count": null,
   "metadata": {
    "dotnet_interactive": {
     "language": "csharp"
    },
    "vscode": {
     "languageId": "dotnet-interactive.csharp"
    }
   },
   "outputs": [],
   "source": [
    "Catalyst.Models.English.Register(); //You need to pre-register each language (and install the respective NuGet Packages)"
   ]
  },
  {
   "cell_type": "code",
   "execution_count": null,
   "metadata": {
    "dotnet_interactive": {
     "language": "csharp"
    },
    "vscode": {
     "languageId": "dotnet-interactive.csharp"
    }
   },
   "outputs": [],
   "source": [
    "public string ToTitleCase(string text)\n",
    "{\n",
    "    TextInfo myTI = new CultureInfo(\"en-US\", false).TextInfo;\n",
    "    return myTI.ToTitleCase(text.ToLower());\n",
    "}\n",
    "\n",
    "public string AllCapsToTitleCase(string text) {\n",
    "    string pattern = @\"\\b[A-Z]{2,}\\b\";\n",
    "\n",
    "    var res = Regex.Replace(text, pattern, match => ToTitleCase(match.Value));\n",
    "\n",
    "    return res;\n",
    "}\n",
    "\n",
    "private async Task<List<string>> GetCharacterNames(string text, List<string> knownCharacterNames) {\n",
    "    text = AllCapsToTitleCase(text);\n",
    "    var nlp = await Pipeline.ForAsync(Language.English);\n",
    "    //nlp.RemoveAllNeuralizers();\n",
    "    nlp.RemoveAll(p => true); // remove previously added entities\n",
    "    nlp = await Pipeline.ForAsync(Language.English);\n",
    "    nlp.Add(await AveragePerceptronEntityRecognizer.FromStoreAsync(language: Language.English, version: Version.Latest, tag: \"WikiNER\"));\n",
    "\n",
    "    //var neuralizer = new Neuralyzer(Language.English, 0, \"WikiNER-sample-fixes\");\n",
    "\n",
    "    var spotter = new Spotter(Language.Any, 0, \"character name\", \"Person\");\n",
    "\n",
    "    foreach(var knownCharacter in knownCharacterNames) {\n",
    "        //Teach the Neuralyzer class to add the entity type Person for a match for the single token \"knownCharacter\"\n",
    "        //neuralizer.TeachAddPattern(\"Person\", knownCharacter, mp => mp.Add(new PatternUnit(P.Single().WithToken(knownCharacter))));\n",
    "        //neuralizer.TeachAddPattern(\"Person\", knownCharacter.ToUpper(), mp => mp.Add(new PatternUnit(P.Single().WithToken(knownCharacter.ToUpper()))));\n",
    "        spotter.AddEntry(knownCharacter);\n",
    "        spotter.AddEntry(knownCharacter.ToUpper());\n",
    "    }\n",
    "\n",
    "    //nlp.UseNeuralyzer(neuralizer);\n",
    "\n",
    "    nlp.Add(spotter);\n",
    "\n",
    "    var doc = new Document(text, Language.English);\n",
    "\n",
    "    nlp.ProcessSingle(doc);\n",
    "\n",
    "    var results = doc.SelectMany(span => span.GetEntities()).Where(e => e.EntityType.Type == \"Person\").Select(e => $\"{e.Value}\").Distinct().ToList();\n",
    "\n",
    "    results.ToList().ForEach(Console.WriteLine);\n",
    "\n",
    "    return results;\n",
    "}\n",
    "\n",
    "private async Task<(string, string, Dictionary<string, int>)> AnonymizeCharacters(string originalFull, string originalSummary, List<string> knownCharacterNames) {\n",
    "    var detectedNames = await GetCharacterNames(originalFull + \"\\n\\n\" + originalSummary, knownCharacterNames);\n",
    "    var detectedNamesLower = detectedNames.Select(n => n.ToLower()).ToList();\n",
    "    Console.WriteLine(\"DETECTED: \" + string.Join(\", \", detectedNames));\n",
    "\n",
    "    var namesToIndex = new Dictionary<string, int>();\n",
    "\n",
    "    // build a list of all possible ways the same character might be referenced, and assign a character index to keep track. For example:\n",
    "    // Tony = 0\n",
    "    // Stark = 0\n",
    "    // Tony Stark = 0\n",
    "    // Obadiah = 1\n",
    "    // Stane = 1\n",
    "    // Obadiah Stane = 1\n",
    "\n",
    "    var curNameNum = 0;\n",
    "\n",
    "    foreach(var name in knownCharacterNames) {\n",
    "        namesToIndex.Add(name, curNameNum);\n",
    "\n",
    "        var nameParts = name.Split(' ').ToList();\n",
    "\n",
    "        foreach(var part in nameParts) {\n",
    "            if (namesToIndex.ContainsKey(ToTitleCase(part)) == false) {\n",
    "                namesToIndex.Add(ToTitleCase(part), curNameNum);\n",
    "            }\n",
    "\n",
    "            if (namesToIndex.ContainsKey(part.ToUpper()) == false) {\n",
    "                namesToIndex.Add(part.ToUpper(), curNameNum);\n",
    "            }\n",
    "            \n",
    "            if (detectedNamesLower.Contains(part.ToLower())) {\n",
    "                var detectedName = detectedNamesLower.Where(n => n == part.ToLower()).First();\n",
    "\n",
    "                if (namesToIndex.ContainsKey(ToTitleCase(detectedName)) == false) {\n",
    "                    namesToIndex.Add(ToTitleCase(detectedName), curNameNum);\n",
    "                }\n",
    "\n",
    "                if (namesToIndex.ContainsKey(detectedName.ToUpper()) == false) {\n",
    "                    namesToIndex.Add(detectedName.ToUpper(), curNameNum);\n",
    "                }\n",
    "            }\n",
    "        }\n",
    "\n",
    "        curNameNum += 1;\n",
    "    }\n",
    "\n",
    "    foreach(var name in detectedNames) {\n",
    "        if (namesToIndex.ContainsKey(name) == false) {\n",
    "            namesToIndex.Add(name, curNameNum);\n",
    "\n",
    "            if (namesToIndex.ContainsKey(ToTitleCase(name)) == false) {\n",
    "                namesToIndex.Add(ToTitleCase(name), curNameNum);\n",
    "            }\n",
    "\n",
    "            if (namesToIndex.ContainsKey(name.ToUpper()) == false) {\n",
    "                namesToIndex.Add(name.ToUpper(), curNameNum);\n",
    "            }\n",
    "\n",
    "            curNameNum += 1;\n",
    "        }\n",
    "    }\n",
    "    \n",
    "    // print final lookup dictionary\n",
    "    //namesToIndex.Select(i => $\"{i.Key}: {i.Value}\").ToList().ForEach(Console.WriteLine);\n",
    "\n",
    "    var separator = \" ===SG=== \";\n",
    "\n",
    "    var result = originalFull + separator + originalSummary;\n",
    "\n",
    "    foreach(var name in namesToIndex.Keys.OrderByDescending(x => x.Length)) {\n",
    "        //Console.WriteLine($\"replacing: {name}\");\n",
    "        result = result.Replace(name, $\"CHARACTER{namesToIndex[name]}\");\n",
    "        result = result.Replace(name.ToUpper(), $\"CHARACTER{namesToIndex[name]}\");\n",
    "    }\n",
    "\n",
    "    var resultParts = result.Split(separator);\n",
    "\n",
    "    return (resultParts[0], resultParts[1], namesToIndex);\n",
    "}\n",
    "\n",
    "private string DeAnonymize(string text, Dictionary<string, int> namesToIndex, bool useShortestName) {\n",
    "    // given a string like \"CHARACTER0 talks with CHARACTER1\" we use namesToIndex to replace them with the shortest real names found\n",
    "\n",
    "    for(var i=0; i < 10; i++) { // assume max of 10 possible characters\n",
    "        var possibleNames = namesToIndex.Where(kvp => kvp.Value == i).ToDictionary(kvp => kvp.Key, kvp => kvp.Value);\n",
    "        //possibleNames.Select(i => $\"{i.Key}: {i.Value}\").ToList().ForEach(Console.WriteLine);\n",
    "\n",
    "        var possibleNamesList = possibleNames.Select(kvp => kvp.Key);\n",
    "        \n",
    "        if (useShortestName) {\n",
    "            possibleNamesList = possibleNamesList.OrderBy(x => x.Length);\n",
    "        } else {\n",
    "            possibleNamesList = possibleNamesList.OrderByDescending(x => x.Length);\n",
    "        }\n",
    "        \n",
    "        var shortestName = possibleNamesList.ToList().FirstOrDefault();\n",
    "\n",
    "        if (shortestName != null) {\n",
    "            text = text.Replace($\"CHARACTER{i}\", shortestName);\n",
    "        }\n",
    "    }\n",
    "\n",
    "    return text;\n",
    "}"
   ]
  },
  {
   "cell_type": "code",
   "execution_count": null,
   "metadata": {
    "dotnet_interactive": {
     "language": "csharp"
    },
    "vscode": {
     "languageId": "dotnet-interactive.csharp"
    }
   },
   "outputs": [
    {
     "data": {
      "text/plain": [
       "CHARACTER0 and CHARACTER1 fight as CHARACTER2 and another man look on. CHARACTER0 grabs CHARACTER1 and CHARACTER2 and the other man are like whoa."
      ]
     },
     "metadata": {},
     "output_type": "display_data"
    }
   ],
   "source": [
    "var test1 = \"EDWARD spoke to Will in his Paris apartment, after going to Pizza Hut for dinner with Mary and SPIDER MAN. Later, Mary and WILL go dancing.\";\n",
    "var test2 = \"Tony and Stane fight as Spider Man and another man look on. STARK grabs OBADIAH and SPIDER MAN and the other man are like whoa.\";\n",
    "var test3 = \"Tony Stark and Obadiah Stane fight.\";\n",
    "//List<string> knownCharacterNames = new(){ \"Edward\", \"Will\", \"Mary\", \"Spider Man\" }; // optional list we can get from the Character list. Names like \"Will\" and \"Spider Man\" don't match on their own\n",
    "List<string> knownCharacterNames = new(){ \"Tony Stark\", \"Obadiah Stane\", \"Spider Man\" };\n",
    "//List<string> knownCharacterNames = new(){ \"Tony\", \"Obadiah\", \"Spider Man\" };\n",
    "//List<string> knownCharacterNames = new();\n",
    "\n",
    "var (anonymizedFullText, anonymizedSummaryText, namesToIndex) = await AnonymizeCharacters(test2, \"summary goes here\", knownCharacterNames);\n",
    "\n",
    "anonymizedFullText"
   ]
  },
  {
   "cell_type": "code",
   "execution_count": null,
   "metadata": {
    "dotnet_interactive": {
     "language": "csharp"
    },
    "vscode": {
     "languageId": "dotnet-interactive.csharp"
    }
   },
   "outputs": [
    {
     "data": {
      "text/plain": [
       "Tony Stark and Obadiah Stane fight as Spider Man and another man look on. Tony Stark grabs Obadiah Stane and Spider Man and the other man are like whoa."
      ]
     },
     "metadata": {},
     "output_type": "display_data"
    }
   ],
   "source": [
    "var reverseTest1 = \"CHARACTER0 and CHARACTER1 fight as CHARACTER2 and another man look on. CHARACTER0 grabs CHARACTER1 and CHARACTER2 and the other man are like whoa.\";\n",
    "\n",
    "var deAnonTest = DeAnonymize(reverseTest1, namesToIndex, false);\n",
    "deAnonTest"
   ]
  },
  {
   "cell_type": "code",
   "execution_count": null,
   "metadata": {
    "dotnet_interactive": {
     "language": "csharp"
    },
    "vscode": {
     "languageId": "dotnet-interactive.csharp"
    }
   },
   "outputs": [
    {
     "name": "stdout",
     "output_type": "stream",
     "text": [
      "Sandra\r\n",
      "Sandra Daffodils\r\n",
      "Edward\r\n",
      "Edward I\r\n",
      "Don Price\r\n",
      "Don Price Bloom\r\n",
      "Edward Don\r\n",
      "DETECTED: Sandra, Sandra Daffodils, Edward, Edward I, Don Price, Don Price Bloom, Edward Don\r\n"
     ]
    }
   ],
   "source": [
    "var realFull0 = @\"\n",
    "INT. ROSSI HOME - RUBY'S ROOM - EVENING\n",
    "\n",
    "Gertie sprawls across Ruby's bed. Ruby takes out a record and puts it on an old Fisher Price record player.\n",
    "\n",
    "GERTIE\n",
    "Does he work out, or are those like fishing muscles?\n",
    "\n",
    "RUBY\n",
    "OK, stop. You cannot date my brother.\n",
    "\n",
    "GERTIE\n",
    "Why?\n",
    "\n",
    "RUBY\n",
    "Because for you, \"\"dating\"\" just means sex, which I don't even want to think about!\n",
    "\n",
    "GERTIE\n",
    "Okay, I'm sure he doesn't need his little sister protecting him.\n",
    "\n",
    "RUBY\n",
    "Will you go back to trying to get with teachers? It's more entertaining.\n",
    "\n",
    "Ruby drops the needle onto the record. \"\"My Pal Foot Foot\"\" by the Shaggs plays. Ruby dances across the room to Gertie.\n",
    "\n",
    "GERTIE\n",
    "Oh, okay.\n",
    "(re: the music)\n",
    "What the hell are we listening to?\n",
    "\n",
    "Ruby grins and flops onto the bed next to Gertie, holding up the record cover with delight.\n",
    "\n",
    "RUBY\n",
    "The Shaggs!\n",
    "(laughs)\n",
    "This song is called \"\"My Pal Foot Foot.\"\"\n",
    "\n",
    "GERTIE\n",
    "Ruby.\n",
    "\n",
    "RUBY\n",
    "Wait, wait...\n",
    "\n",
    "The chorus of the song kicks in. It's weird.\n",
    "\n",
    "RUBY\n",
    "That's my favorite part, right there!\n",
    "\n",
    "GERTIE\n",
    "You find the weirdest shit. Did you get this in the dollar bin?\n",
    "(beat)\n",
    "Wait, I have a serious question. What's the sign for, um, for \"\"You're really smoking hot\"\"?\n",
    "\n",
    "RUBY\n",
    "No.\n",
    "\n",
    "GERTIE\n",
    "What about like \"\"We should totally get it on\"\"?\n",
    "\n",
    "RUBY\n",
    "No!\n",
    "\n",
    "GERTIE\n",
    "Is it just... this?\n",
    "\n",
    "Gertie thrusts her hips up and down.\n",
    "\n",
    "RUBY\n",
    "Oh my God. No. Stop!\n",
    "\n",
    "GERTIE\n",
    "Then show me!\n",
    "\n",
    "Ruby gives her a hard look, but then smiles, caving.\n",
    "\";\n",
    "\n",
    "var realFull1 = @\"\n",
    "EXT. SORORITY HOUSE - DAY\n",
    "\n",
    "Sandra walks out to him. She's smiling, confused, joyful and scared. All down Greek Street, STUDENTS are coming out to see the display.\n",
    "\n",
    "SANDRA\n",
    "Daffodils?\n",
    "\n",
    "EDWARD\n",
    "They're your favorite flower.\n",
    "\n",
    "SANDRA\n",
    "How did you get so many?\n",
    "\n",
    "EDWARD\n",
    "I called everywhere in five states and explained this was the only way I could get my wife to marry me.\n",
    "\n",
    "Out of nowhere, a tear drops down Sandra's cheek. She wipes it off.\n",
    "\n",
    "SANDRA\n",
    "You don't even know me.\n",
    "\n",
    "EDWARD\n",
    "I have the rest of my life to find out.\n",
    "\n",
    "From down the street...\n",
    "\n",
    "A MAN'S VOICE\n",
    "Sandra!\n",
    "\n",
    "SANDRA\n",
    "It's Don. Promise me you won't hurt him.\n",
    "\n",
    "EDWARD\n",
    "If that's what you want, I swear to it.\n",
    "\n",
    "The adult DON PRICE arrives. He's 230 pounds of football-playing, Skynard-loving, fraternity-proud muscle. And he's pissed.\n",
    "\n",
    "A gang of his BROTHERS walk behind him.\n",
    "\n",
    "DON PRICE\n",
    "Bloom!\n",
    "\n",
    "EDWARD\n",
    "Don.\n",
    "\n",
    "DON PRICE\n",
    "What the hell are you doing? This is my girl. Mine!\n",
    "\n",
    "EDWARD\n",
    "I didn't know she belonged to anybody.\n",
    "\n",
    "Don Price decks him, knocking him down. Edward gets right back up, but makes no move to defend himself.\n",
    "\n",
    "Unfazed, Don slugs him again.\n",
    "\n",
    "SANDRA\n",
    "Stop it!\n",
    "\n",
    "DON PRICE\n",
    "(ignoring)\n",
    "What the matter, Bloom? Too scared to fight back?\n",
    "\n",
    "EDWARD\n",
    "I promised I wouldn't.\n",
    "\n",
    "A beat. Don shrugs, fine. Then proceeds to kick Edward's ass nine ways to Sunday.\n",
    "\n",
    "EDWARD (V.O.) (CONT'D)\n",
    "While I took the beating of a lifetime, it was Don Price who was ultimately defeated.\n",
    "\n",
    "As the ass-whupping continues, we\n",
    "\n",
    "INTERCUT WITH:\n",
    "\";\n",
    "\n",
    "var realSummary0 = \"In Ruby's room, Gertie talks more about how hot Leo is. Ruby plays a record by The Shaggs, which Gertie finds weird. Gertie presses Ruby mischievously shows what Gertie thinks is the sign for a flirtatious message for Leo.\";\n",
    "var realSummary1 = \"Sandra is timid but amused as she walks out to greet Edward. Don Price and his fraternity brothers appear, and Sandra asks Edward not to hurt him. Don beats up Edward, who takes every punch to honor is promise to Sandra.\";\n",
    "\n",
    "List<string> knownCharacterNames0 = new(){\"Ruby\", \"Gertie\", \"Leo\"};\n",
    "List<string> knownCharacterNames1 = new(){\"Edward\", \"Don Price\", \"Sandra\"};\n",
    "\n",
    "var (anonymizedFullText, anonymizedSummaryText, namesToIndex) = await AnonymizeCharacters(realFull1, realSummary1, knownCharacterNames1);\n",
    "\n",
    "//anonymizedFullText"
   ]
  },
  {
   "cell_type": "code",
   "execution_count": null,
   "metadata": {
    "dotnet_interactive": {
     "language": "csharp"
    },
    "vscode": {
     "languageId": "dotnet-interactive.csharp"
    }
   },
   "outputs": [
    {
     "data": {
      "text/html": [
       "<table><thead><tr><th><i>key</i></th><th>value</th></tr></thead><tbody><tr><td>Edward</td><td><div class=\"dni-plaintext\">0</div></td></tr><tr><td>EDWARD</td><td><div class=\"dni-plaintext\">0</div></td></tr><tr><td>Don Price</td><td><div class=\"dni-plaintext\">1</div></td></tr><tr><td>Don</td><td><div class=\"dni-plaintext\">1</div></td></tr><tr><td>DON</td><td><div class=\"dni-plaintext\">1</div></td></tr><tr><td>Price</td><td><div class=\"dni-plaintext\">1</div></td></tr><tr><td>PRICE</td><td><div class=\"dni-plaintext\">1</div></td></tr><tr><td>Sandra</td><td><div class=\"dni-plaintext\">2</div></td></tr><tr><td>SANDRA</td><td><div class=\"dni-plaintext\">2</div></td></tr><tr><td>Sandra Daffodils</td><td><div class=\"dni-plaintext\">3</div></td></tr><tr><td>SANDRA DAFFODILS</td><td><div class=\"dni-plaintext\">3</div></td></tr><tr><td>Edward I</td><td><div class=\"dni-plaintext\">4</div></td></tr><tr><td>EDWARD I</td><td><div class=\"dni-plaintext\">4</div></td></tr><tr><td>Don Price Bloom</td><td><div class=\"dni-plaintext\">5</div></td></tr><tr><td>DON PRICE BLOOM</td><td><div class=\"dni-plaintext\">5</div></td></tr><tr><td>Edward Don</td><td><div class=\"dni-plaintext\">6</div></td></tr><tr><td>EDWARD DON</td><td><div class=\"dni-plaintext\">6</div></td></tr></tbody></table>"
      ]
     },
     "metadata": {},
     "output_type": "display_data"
    }
   ],
   "source": [
    "namesToIndex"
   ]
  },
  {
   "cell_type": "code",
   "execution_count": null,
   "metadata": {
    "dotnet_interactive": {
     "language": "csharp"
    },
    "vscode": {
     "languageId": "dotnet-interactive.csharp"
    }
   },
   "outputs": [
    {
     "data": {
      "text/plain": [
       "Amos Calloway turns back into a human, and thanks Edward Hill, telling him the girl's name is Sandra Templeton, and she's going to Auburn. Edward Hill bids farewell to Karl and heads to Auburn."
      ]
     },
     "metadata": {},
     "output_type": "display_data"
    }
   ],
   "source": [
    "// for the admin workflow, I start with a full screenplay scene, anonymize it, which generates an anonymized summary, then\n",
    "// I need to replace back with real character names. In this case, it's ok that we lose the all uppercase of the screenplay format.\n",
    "var deAnonTest = DeAnonymize(anonymizedSummaryText, namesToIndex, false);\n",
    "deAnonTest"
   ]
  },
  {
   "cell_type": "code",
   "execution_count": null,
   "metadata": {
    "vscode": {
     "languageId": "dotnet-interactive.csharp"
    }
   },
   "outputs": [],
   "source": []
  }
 ],
 "metadata": {
  "kernelspec": {
   "display_name": ".NET (C#)",
   "language": "C#",
   "name": ".net-csharp"
  },
  "language_info": {
   "file_extension": ".cs",
   "mimetype": "text/x-csharp",
   "name": "C#",
   "pygments_lexer": "csharp",
   "version": "9.0"
  },
  "orig_nbformat": 4
 },
 "nbformat": 4,
 "nbformat_minor": 2
}
