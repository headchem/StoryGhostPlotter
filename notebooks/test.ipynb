{
 "cells": [
  {
   "cell_type": "code",
   "execution_count": null,
   "metadata": {
    "dotnet_interactive": {
     "language": "csharp"
    },
    "vscode": {
     "languageId": "dotnet-interactive.csharp"
    }
   },
   "outputs": [
    {
     "data": {
      "text/html": [
       "<div><div></div><div></div><div><strong>Installed Packages</strong><ul><li><span>Catalyst, 1.0.31087</span></li><li><span>Catalyst.Models.English, 1.0.30952</span></li></ul></div></div>"
      ]
     },
     "metadata": {},
     "output_type": "display_data"
    }
   ],
   "source": [
    "//#r \"nuget: Catalyst.Spacy, 1.0.31087\"\n",
    "#r \"nuget: Catalyst, 1.0.31087\"\n",
    "#r \"nuget: Catalyst.Models.English, 1.0.30952\""
   ]
  },
  {
   "cell_type": "code",
   "execution_count": null,
   "metadata": {
    "dotnet_interactive": {
     "language": "csharp"
    },
    "vscode": {
     "languageId": "dotnet-interactive.csharp"
    }
   },
   "outputs": [],
   "source": [
    "\n",
    "using System;\n",
    "using System.Collections.Generic;\n",
    "using System.Linq;\n",
    "using System.Text;\n",
    "using System.Threading.Tasks;\n",
    "using Catalyst;\n",
    "using Catalyst.Models;\n",
    "using Version = Mosaik.Core.Version;\n",
    "using Mosaik.Core;\n",
    "using P = Catalyst.PatternUnitPrototype;\n",
    "using System.Globalization;\n",
    "using System.Text.RegularExpressions;"
   ]
  },
  {
   "cell_type": "code",
   "execution_count": null,
   "metadata": {
    "dotnet_interactive": {
     "language": "csharp"
    },
    "vscode": {
     "languageId": "dotnet-interactive.csharp"
    }
   },
   "outputs": [],
   "source": [
    "Catalyst.Models.English.Register(); //You need to pre-register each language (and install the respective NuGet Packages)"
   ]
  },
  {
   "cell_type": "code",
   "execution_count": null,
   "metadata": {
    "dotnet_interactive": {
     "language": "csharp"
    },
    "vscode": {
     "languageId": "dotnet-interactive.csharp"
    }
   },
   "outputs": [],
   "source": [
    "public string ToTitleCase(string text)\n",
    "{\n",
    "    TextInfo myTI = new CultureInfo(\"en-US\", false).TextInfo;\n",
    "    return myTI.ToTitleCase(text.ToLower());\n",
    "}\n",
    "\n",
    "public string AllCapsToTitleCase(string text) {\n",
    "    string pattern = @\"\\b[A-Z]{2,}\\b\";\n",
    "\n",
    "    var res = Regex.Replace(text, pattern, match => ToTitleCase(match.Value));\n",
    "\n",
    "    return res;\n",
    "}\n",
    "\n",
    "private async Task<List<string>> GetCharacterNames(string text, List<string> knownCharacterNames) {\n",
    "    text = AllCapsToTitleCase(text);\n",
    "    var nlp = await Pipeline.ForAsync(Language.English);\n",
    "    nlp.Add(await AveragePerceptronEntityRecognizer.FromStoreAsync(language: Language.English, version: Version.Latest, tag: \"WikiNER\"));\n",
    "\n",
    "    var neuralizer = new Neuralyzer(Language.English, 0, \"WikiNER-sample-fixes\");\n",
    "\n",
    "    var spotter = new Spotter(Language.Any, 0, \"character name\", \"Person\");\n",
    "\n",
    "    foreach(var knownCharacter in knownCharacterNames) {\n",
    "        //Teach the Neuralyzer class to add the entity type Person for a match for the single token \"knownCharacter\"\n",
    "        neuralizer.TeachAddPattern(\"Person\", knownCharacter, mp => mp.Add(new PatternUnit(P.Single().WithToken(knownCharacter))));\n",
    "        neuralizer.TeachAddPattern(\"Person\", knownCharacter.ToUpper(), mp => mp.Add(new PatternUnit(P.Single().WithToken(knownCharacter.ToUpper()))));\n",
    "        spotter.AddEntry(knownCharacter);\n",
    "        spotter.AddEntry(knownCharacter.ToUpper());\n",
    "    }\n",
    "\n",
    "    nlp.UseNeuralyzer(neuralizer);\n",
    "\n",
    "    nlp.Add(spotter);\n",
    "\n",
    "    var doc = new Document(text, Language.English);\n",
    "\n",
    "    nlp.ProcessSingle(doc);\n",
    "\n",
    "    var results = doc.SelectMany(span => span.GetEntities()).Where(e => e.EntityType.Type == \"Person\").Select(e => $\"{e.Value}\").Distinct().ToList();\n",
    "\n",
    "    return results;\n",
    "}\n",
    "\n",
    "private async Task<(string, string, Dictionary<string, int>)> AnonymizeCharacters(string originalFull, string originalSummary, List<string> knownCharacterNames) {\n",
    "    var detectedNames = await GetCharacterNames(originalFull + \"\\n\\n\" + originalSummary, knownCharacterNames);\n",
    "    var detectedNamesLower = detectedNames.Select(n => n.ToLower()).ToList();\n",
    "    //Console.WriteLine(\"DETECTED: \" + string.Join(\", \", detectedNames));\n",
    "\n",
    "    var namesToIndex = new Dictionary<string, int>();\n",
    "\n",
    "    // build a list of all possible ways the same character might be referenced, and assign a character index to keep track. For example:\n",
    "    // Tony = 0\n",
    "    // Stark = 0\n",
    "    // Tony Stark = 0\n",
    "\n",
    "    var curNameNum = 0;\n",
    "\n",
    "    foreach(var name in knownCharacterNames) {\n",
    "        namesToIndex.Add(name, curNameNum);\n",
    "\n",
    "        var nameParts = name.Split(' ').ToList();\n",
    "\n",
    "        foreach(var part in nameParts) {\n",
    "            if (namesToIndex.ContainsKey(ToTitleCase(part)) == false) {\n",
    "                namesToIndex.Add(ToTitleCase(part), curNameNum);\n",
    "            }\n",
    "\n",
    "            if (namesToIndex.ContainsKey(part.ToUpper()) == false) {\n",
    "                namesToIndex.Add(part.ToUpper(), curNameNum);\n",
    "            }\n",
    "            \n",
    "            if (detectedNamesLower.Contains(part.ToLower())) {\n",
    "                var detectedName = detectedNamesLower.Where(n => n == part.ToLower()).First();\n",
    "\n",
    "                if (namesToIndex.ContainsKey(ToTitleCase(detectedName)) == false) {\n",
    "                    namesToIndex.Add(ToTitleCase(detectedName), curNameNum);\n",
    "                }\n",
    "\n",
    "                if (namesToIndex.ContainsKey(detectedName.ToUpper()) == false) {\n",
    "                    namesToIndex.Add(detectedName.ToUpper(), curNameNum);\n",
    "                }\n",
    "            }\n",
    "        }\n",
    "\n",
    "        curNameNum += 1;\n",
    "    }\n",
    "\n",
    "    foreach(var name in detectedNames) {\n",
    "        if (namesToIndex.ContainsKey(name) == false) {\n",
    "            namesToIndex.Add(name, curNameNum);\n",
    "\n",
    "            if (namesToIndex.ContainsKey(ToTitleCase(name)) == false) {\n",
    "                namesToIndex.Add(ToTitleCase(name), curNameNum);\n",
    "            }\n",
    "\n",
    "            if (namesToIndex.ContainsKey(name.ToUpper()) == false) {\n",
    "                namesToIndex.Add(name.ToUpper(), curNameNum);\n",
    "            }\n",
    "\n",
    "            curNameNum += 1;\n",
    "        }\n",
    "    }\n",
    "    \n",
    "    // print final lookup dictionary\n",
    "    //namesToIndex.Select(i => $\"{i.Key}: {i.Value}\").ToList().ForEach(Console.WriteLine);\n",
    "\n",
    "    var separator = \" ===SG=== \";\n",
    "\n",
    "    var result = originalFull + separator + originalSummary;\n",
    "\n",
    "    foreach(var name in namesToIndex.Keys.OrderByDescending(x => x.Length)) {\n",
    "        //Console.WriteLine($\"replacing: {name}\");\n",
    "        result = result.Replace(name, $\"CHARACTER{namesToIndex[name]}\");\n",
    "        result = result.Replace(name.ToUpper(), $\"CHARACTER{namesToIndex[name]}\");\n",
    "    }\n",
    "\n",
    "    var resultParts = result.Split(separator);\n",
    "\n",
    "    return (resultParts[0], resultParts[1], namesToIndex);\n",
    "}\n",
    "\n",
    "private string DeAnonymize(string text, Dictionary<string, int> namesToIndex, bool useShortestName) {\n",
    "    // given a string like \"CHARACTER0 talks with CHARACTER1\" we use namesToIndex to replace them with the shortest real names found\n",
    "\n",
    "    for(var i=0; i < 10; i++) { // assume max of 10 possible characters\n",
    "        var possibleNames = namesToIndex.Where(kvp => kvp.Value == i).ToDictionary(kvp => kvp.Key, kvp => kvp.Value);\n",
    "        //possibleNames.Select(i => $\"{i.Key}: {i.Value}\").ToList().ForEach(Console.WriteLine);\n",
    "\n",
    "        var possibleNamesList = possibleNames.Select(kvp => kvp.Key);\n",
    "        \n",
    "        if (useShortestName) {\n",
    "            possibleNamesList = possibleNamesList.OrderBy(x => x.Length);\n",
    "        } else {\n",
    "            possibleNamesList = possibleNamesList.OrderByDescending(x => x.Length);\n",
    "        }\n",
    "        \n",
    "        var shortestName = possibleNamesList.ToList().FirstOrDefault();\n",
    "\n",
    "        if (shortestName != null) {\n",
    "            text = text.Replace($\"CHARACTER{i}\", shortestName);\n",
    "        }\n",
    "    }\n",
    "\n",
    "    return text;\n",
    "}"
   ]
  },
  {
   "cell_type": "code",
   "execution_count": null,
   "metadata": {
    "dotnet_interactive": {
     "language": "csharp"
    },
    "vscode": {
     "languageId": "dotnet-interactive.csharp"
    }
   },
   "outputs": [
    {
     "data": {
      "text/plain": [
       "CHARACTER0 and CHARACTER1 fight as CHARACTER2 and another man look on. CHARACTER0 grabs CHARACTER1 and CHARACTER2 and the other man are like whoa."
      ]
     },
     "metadata": {},
     "output_type": "display_data"
    }
   ],
   "source": [
    "var test1 = \"EDWARD spoke to Will in his Paris apartment, after going to Pizza Hut for dinner with Mary and SPIDER MAN. Later, Mary and WILL go dancing.\";\n",
    "var test2 = \"Tony and Stane fight as Spider Man and another man look on. STARK grabs OBADIAH and SPIDER MAN and the other man are like whoa.\";\n",
    "var test3 = \"Tony Stark and Obadiah Stane fight.\";\n",
    "//List<string> knownCharacterNames = new(){ \"Edward\", \"Will\", \"Mary\", \"Spider Man\" }; // optional list we can get from the Character list. Names like \"Will\" and \"Spider Man\" don't match on their own\n",
    "List<string> knownCharacterNames = new(){ \"Tony Stark\", \"Obadiah Stane\", \"Spider Man\" };\n",
    "//List<string> knownCharacterNames = new(){ \"Tony\", \"Obadiah\", \"Spider Man\" };\n",
    "//List<string> knownCharacterNames = new();\n",
    "\n",
    "var (anonymizedFullText, anonymizedSummaryText, namesToIndex) = await AnonymizeCharacters(test2, \"summary goes here\", knownCharacterNames);\n",
    "\n",
    "anonymizedFullText"
   ]
  },
  {
   "cell_type": "code",
   "execution_count": null,
   "metadata": {
    "dotnet_interactive": {
     "language": "csharp"
    },
    "vscode": {
     "languageId": "dotnet-interactive.csharp"
    }
   },
   "outputs": [
    {
     "data": {
      "text/plain": [
       "Tony Stark and Obadiah Stane fight as Spider Man and another man look on. Tony Stark grabs Obadiah Stane and Spider Man and the other man are like whoa."
      ]
     },
     "metadata": {},
     "output_type": "display_data"
    }
   ],
   "source": [
    "var reverseTest1 = \"CHARACTER0 and CHARACTER1 fight as CHARACTER2 and another man look on. CHARACTER0 grabs CHARACTER1 and CHARACTER2 and the other man are like whoa.\";\n",
    "\n",
    "var deAnonTest = DeAnonymize(reverseTest1, namesToIndex, false);\n",
    "deAnonTest"
   ]
  },
  {
   "cell_type": "code",
   "execution_count": null,
   "metadata": {
    "dotnet_interactive": {
     "language": "csharp"
    },
    "vscode": {
     "languageId": "dotnet-interactive.csharp"
    }
   },
   "outputs": [
    {
     "data": {
      "text/plain": [
       "CHARACTER1 turns back into a human, and thanks CHARACTER0, telling him the girl's name is CHARACTER2, and she's going to Auburn. CHARACTER0 bids farewell to CHARACTER4 and heads to Auburn."
      ]
     },
     "metadata": {},
     "output_type": "display_data"
    }
   ],
   "source": [
    "var realFull1 = @\"\n",
    "EXT. FIELD - PRE-DAWN\n",
    "\n",
    "Exhausted from playing fetch all night, Edward throws the stick into the woods. The still-spry dog goes after it. It's gone for a long time, long enough that Edward becomes concerned.\n",
    "\n",
    "He follows it into the woods.\n",
    "\n",
    "INT. WOODS - DAWN\n",
    "\n",
    "Amos Calloway stands up behind a bush, buck naked and hairy. He still has the stick in his mouth, which he takes out as Edward approaches.\n",
    "\n",
    "AMOS\n",
    "Didn't kill anything, did I?\n",
    "\n",
    "EDWARD\n",
    "A few rabbits, but I think one of them was already dead.\n",
    "\n",
    "AMOS\n",
    "That would explain the indigestion.\n",
    "\n",
    "Edward tosses him his jacket to cover his privates.\n",
    "\n",
    "AMOS (CONT'D)\n",
    "I was wrong about you kid. You may not have much, but what you got, you got a lot of. You could get any girl.\n",
    "\n",
    "EDWARD\n",
    "There's only one I want.\n",
    "\n",
    "A beat.\n",
    "\n",
    "AMOS\n",
    "Her name is Sandra Templeton. She's going to Auburn. The semester's almost over, so you better hurry.\n",
    "\n",
    "EDWARD\n",
    "Thank you.\n",
    "\n",
    "AMOS\n",
    "Good luck, kid.\n",
    "\n",
    "Edward walks away. Then starts running. He has to get there as soon as possible.\n",
    "\n",
    "Amos sits down and scratches his ear with his foot.\n",
    "\n",
    "EXT. BIG TOP - DAY \n",
    "\n",
    "Edward shakes Karl's giant hand. They hug.\n",
    "\n",
    "EDWARD (V.O.)\n",
    "After saying my goodbyes, I hopped three trains to get to Auburn that afternoon.\n",
    "\n",
    "\";\n",
    "\n",
    "var realSummary1 = \"Amos turns back into a human, and thanks Edward, telling him the girl's name is Sandra Templeton, and she's going to Auburn. Edward bids farewell to Karl and heads to Auburn.\";\n",
    "\n",
    "List<string> knownCharacterNames = new(){\"Edward Hill\", \"Amos Calloway\", \"Sandra Templeton\"};\n",
    "\n",
    "var (anonymizedFullText, anonymizedSummaryText, namesToIndex) = await AnonymizeCharacters(realFull1, realSummary1, knownCharacterNames);\n",
    "\n",
    "anonymizedSummaryText"
   ]
  },
  {
   "cell_type": "code",
   "execution_count": null,
   "metadata": {
    "dotnet_interactive": {
     "language": "csharp"
    },
    "vscode": {
     "languageId": "dotnet-interactive.csharp"
    }
   },
   "outputs": [
    {
     "data": {
      "text/plain": [
       "Amos Calloway turns back into a human, and thanks Edward Hill, telling him the girl's name is Sandra Templeton, and she's going to Auburn. Edward Hill bids farewell to Karl and heads to Auburn."
      ]
     },
     "metadata": {},
     "output_type": "display_data"
    }
   ],
   "source": [
    "var deAnonTest = DeAnonymize(anonymizedSummaryText, namesToIndex, false);\n",
    "deAnonTest"
   ]
  },
  {
   "cell_type": "code",
   "execution_count": null,
   "metadata": {
    "dotnet_interactive": {
     "language": "csharp"
    },
    "vscode": {
     "languageId": "dotnet-interactive.csharp"
    }
   },
   "outputs": [],
   "source": []
  }
 ],
 "metadata": {
  "kernelspec": {
   "display_name": ".NET (C#)",
   "language": "C#",
   "name": ".net-csharp"
  },
  "language_info": {
   "file_extension": ".cs",
   "mimetype": "text/x-csharp",
   "name": "C#",
   "pygments_lexer": "csharp",
   "version": "9.0"
  },
  "orig_nbformat": 4
 },
 "nbformat": 4,
 "nbformat_minor": 2
}
