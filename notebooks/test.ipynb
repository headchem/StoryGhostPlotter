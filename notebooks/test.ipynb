{
 "cells": [
  {
   "cell_type": "code",
   "execution_count": null,
   "metadata": {
    "dotnet_interactive": {
     "language": "csharp"
    },
    "vscode": {
     "languageId": "dotnet-interactive.csharp"
    }
   },
   "outputs": [
    {
     "data": {
      "text/html": [
       "<div><div></div><div></div><div><strong>Installed Packages</strong><ul><li><span>Catalyst, 1.0.31087</span></li><li><span>Catalyst.Models.English, 1.0.30952</span></li></ul></div></div>"
      ]
     },
     "metadata": {},
     "output_type": "display_data"
    }
   ],
   "source": [
    "#r \"nuget: Catalyst, 1.0.31087\"\n",
    "#r \"nuget: Catalyst.Models.English, 1.0.30952\""
   ]
  },
  {
   "cell_type": "code",
   "execution_count": null,
   "metadata": {
    "dotnet_interactive": {
     "language": "csharp"
    },
    "vscode": {
     "languageId": "dotnet-interactive.csharp"
    }
   },
   "outputs": [],
   "source": [
    "\n",
    "using System;\n",
    "using System.Collections.Generic;\n",
    "using System.Linq;\n",
    "using System.Text;\n",
    "using System.Threading.Tasks;\n",
    "using Catalyst;\n",
    "using Catalyst.Models;\n",
    "using Version = Mosaik.Core.Version;\n",
    "using Mosaik.Core;\n",
    "using P = Catalyst.PatternUnitPrototype;\n",
    "using System.Globalization;\n",
    "using System.Text.RegularExpressions;"
   ]
  },
  {
   "cell_type": "code",
   "execution_count": null,
   "metadata": {
    "dotnet_interactive": {
     "language": "csharp"
    },
    "vscode": {
     "languageId": "dotnet-interactive.csharp"
    }
   },
   "outputs": [],
   "source": [
    "private String ReplaceWholeWord(String s, String word, String bywhat)\n",
    "{\n",
    "    char firstLetter = word[0];\n",
    "    StringBuilder sb = new StringBuilder();\n",
    "    bool previousWasLetterOrDigit = false;\n",
    "    int i = 0;\n",
    "    while (i < s.Length - word.Length + 1)\n",
    "    {\n",
    "        bool wordFound = false;\n",
    "        char c = s[i];\n",
    "        if (c == firstLetter)\n",
    "            if (!previousWasLetterOrDigit)\n",
    "                if (s.Substring(i, word.Length).Equals(word))\n",
    "                {\n",
    "                    wordFound = true;\n",
    "                    bool wholeWordFound = true;\n",
    "                    if (s.Length > i + word.Length)\n",
    "                    {\n",
    "                        if (Char.IsLetterOrDigit(s[i + word.Length]))\n",
    "                            wholeWordFound = false;\n",
    "                    }\n",
    "\n",
    "                    if (wholeWordFound)\n",
    "                        sb.Append(bywhat);\n",
    "                    else\n",
    "                        sb.Append(word);\n",
    "\n",
    "                    i += word.Length;\n",
    "                }\n",
    "\n",
    "        if (!wordFound)\n",
    "        {\n",
    "            previousWasLetterOrDigit = Char.IsLetterOrDigit(c);\n",
    "            sb.Append(c);\n",
    "            i++;\n",
    "        }\n",
    "    }\n",
    "\n",
    "    if (s.Length - i > 0)\n",
    "        sb.Append(s.Substring(i));\n",
    "\n",
    "    return sb.ToString();\n",
    "}"
   ]
  },
  {
   "cell_type": "code",
   "execution_count": null,
   "metadata": {
    "dotnet_interactive": {
     "language": "csharp"
    },
    "vscode": {
     "languageId": "dotnet-interactive.csharp"
    }
   },
   "outputs": [],
   "source": [
    "Catalyst.Models.English.Register(); //You need to pre-register each language (and install the respective NuGet Packages)"
   ]
  },
  {
   "cell_type": "code",
   "execution_count": null,
   "metadata": {
    "dotnet_interactive": {
     "language": "csharp"
    },
    "vscode": {
     "languageId": "dotnet-interactive.csharp"
    }
   },
   "outputs": [],
   "source": [
    "public string ToTitleCase(string text)\n",
    "{\n",
    "    TextInfo myTI = new CultureInfo(\"en-US\", false).TextInfo;\n",
    "    return myTI.ToTitleCase(text.ToLower());\n",
    "}\n",
    "\n",
    "public string AllCapsToTitleCase(string text) {\n",
    "    string pattern = @\"\\b[A-Z]{2,}\\b\";\n",
    "\n",
    "    var res = Regex.Replace(text, pattern, match => ToTitleCase(match.Value));\n",
    "\n",
    "    return res;\n",
    "}\n",
    "\n",
    "private async Task<List<string>> GetCharacterNames(string text, List<string> knownCharacterNames) {\n",
    "    text = AllCapsToTitleCase(text);\n",
    "    var nlp = await Pipeline.ForAsync(Language.English);\n",
    "    nlp.RemoveAllNeuralizers();\n",
    "    nlp.RemoveAll(p => true); // remove previously added entities\n",
    "    nlp = await Pipeline.ForAsync(Language.English);\n",
    "    nlp.Add(await AveragePerceptronEntityRecognizer.FromStoreAsync(language: Language.English, version: Version.Latest, tag: \"WikiNER\"));\n",
    "\n",
    "    var neuralizer = new Neuralyzer(Language.English, 0, \"WikiNER-sample-fixes\");\n",
    "\n",
    "    var spotter = new Spotter(Language.Any, 0, \"character name\", \"Person\");\n",
    "\n",
    "    foreach(var knownCharacter in knownCharacterNames) {\n",
    "        if (text.Contains(knownCharacter) == false && text.Contains(knownCharacter.ToUpper()) == false)\n",
    "        {\n",
    "            continue;\n",
    "        }\n",
    "\n",
    "        //Teach the Neuralyzer class to add the entity type Person for a match for the single token \"knownCharacter\"\n",
    "        neuralizer.TeachAddPattern(\"Person\", knownCharacter, mp => mp.Add(new PatternUnit(P.Single().WithToken(knownCharacter))));\n",
    "        neuralizer.TeachAddPattern(\"Person\", knownCharacter.ToUpper(), mp => mp.Add(new PatternUnit(P.Single().WithToken(knownCharacter.ToUpper()))));\n",
    "        spotter.AddEntry(knownCharacter);\n",
    "        spotter.AddEntry(knownCharacter.ToUpper());\n",
    "    }\n",
    "\n",
    "    nlp.UseNeuralyzer(neuralizer);\n",
    "\n",
    "    nlp.Add(spotter);\n",
    "\n",
    "    var doc = new Document(text, Language.English);\n",
    "\n",
    "    nlp.ProcessSingle(doc);\n",
    "\n",
    "    var results = doc.SelectMany(span => span.GetEntities()).Where(e => e.EntityType.Type == \"Person\").Select(e => $\"{e.Value}\").Distinct().ToList();\n",
    "\n",
    "    results.ToList().ForEach(Console.WriteLine);\n",
    "\n",
    "    return results;\n",
    "}\n",
    "\n",
    "private async Task<(string, string, Dictionary<string, int>)> AnonymizeCharacters(string originalFull, string originalSummary, List<string> knownCharacterNames) {\n",
    "    var detectedNames = new List<string>(); //knownCharacterNames;//await GetCharacterNames(originalFull + \"\\n\\n\" + originalSummary, knownCharacterNames);\n",
    "    var detectedNamesLower = detectedNames.Select(n => n.ToLower()).ToList();\n",
    "    Console.WriteLine(\"DETECTED: \" + string.Join(\", \", detectedNames));\n",
    "\n",
    "    var namesToIndex = new Dictionary<string, int>();\n",
    "\n",
    "    // build a list of all possible ways the same character might be referenced, and assign a character index to keep track. For example:\n",
    "    // Tony = 0\n",
    "    // Stark = 0\n",
    "    // Tony Stark = 0\n",
    "    // Obadiah = 1\n",
    "    // Stane = 1\n",
    "    // Obadiah Stane = 1\n",
    "\n",
    "    var curNameNum = 0;\n",
    "\n",
    "    foreach(var name in knownCharacterNames) {\n",
    "        var upperOrigName = name.ToUpper();\n",
    "\n",
    "        var allNames = new List<string>{\n",
    "            name,\n",
    "            upperOrigName\n",
    "        };\n",
    "\n",
    "        var origNameFirst = \"\";\n",
    "        var origNameFirstUpper = \"\";\n",
    "        var origNameLast = \"\";\n",
    "        var origNameLastUpper = \"\";\n",
    "\n",
    "        if (name.Contains(\" \")) {\n",
    "            origNameFirst = name.Split(' ')[0];\n",
    "            origNameFirstUpper = origNameFirst.ToUpper();\n",
    "\n",
    "            allNames.Add(origNameFirst);\n",
    "            allNames.Add(origNameFirstUpper);\n",
    "\n",
    "            origNameLast = name.Split(' ').Last();\n",
    "            origNameLastUpper = origNameLast.ToUpper();\n",
    "            \n",
    "            if (allNames.Contains(origNameLast) == false) {\n",
    "                allNames.Add(origNameLast);\n",
    "                allNames.Add(origNameLastUpper);\n",
    "            }\n",
    "        }\n",
    "\n",
    "        // ensure the full or summary text contains either full name or first name\n",
    "        if (allNames.Any(name => originalFull.Contains(name)) == false && allNames.Any(name => originalSummary.Contains(name)) == false) {\n",
    "            continue;\n",
    "        }\n",
    "\n",
    "        namesToIndex.Add(name, curNameNum);\n",
    "\n",
    "        if (namesToIndex.ContainsKey(name.ToUpper()) == false) {\n",
    "            namesToIndex.Add(name.ToUpper(), curNameNum);\n",
    "        }\n",
    "\n",
    "        var nameParts = name.Split(' ').ToList();\n",
    "\n",
    "        foreach(var part in nameParts) {\n",
    "            if (namesToIndex.ContainsKey(ToTitleCase(part)) == false) {\n",
    "                namesToIndex.Add(ToTitleCase(part), curNameNum);\n",
    "            }\n",
    "\n",
    "            if (namesToIndex.ContainsKey(part.ToUpper()) == false) {\n",
    "                namesToIndex.Add(part.ToUpper(), curNameNum);\n",
    "            }\n",
    "            \n",
    "            if (detectedNamesLower.Contains(part.ToLower())) {\n",
    "                var detectedName = detectedNamesLower.Where(n => n == part.ToLower()).First();\n",
    "\n",
    "                if (namesToIndex.ContainsKey(ToTitleCase(detectedName)) == false) {\n",
    "                    namesToIndex.Add(ToTitleCase(detectedName), curNameNum);\n",
    "                }\n",
    "\n",
    "                if (namesToIndex.ContainsKey(detectedName.ToUpper()) == false) {\n",
    "                    namesToIndex.Add(detectedName.ToUpper(), curNameNum);\n",
    "                }\n",
    "            }\n",
    "        }\n",
    "\n",
    "        curNameNum += 1;\n",
    "    }\n",
    "\n",
    "    foreach(var name in detectedNames) {\n",
    "        if (namesToIndex.ContainsKey(name) == false) {\n",
    "            namesToIndex.Add(name, curNameNum);\n",
    "\n",
    "            if (namesToIndex.ContainsKey(ToTitleCase(name)) == false) {\n",
    "                namesToIndex.Add(ToTitleCase(name), curNameNum);\n",
    "            }\n",
    "\n",
    "            if (namesToIndex.ContainsKey(name.ToUpper()) == false) {\n",
    "                namesToIndex.Add(name.ToUpper(), curNameNum);\n",
    "            }\n",
    "\n",
    "            curNameNum += 1;\n",
    "        }\n",
    "    }\n",
    "    \n",
    "    // print final lookup dictionary\n",
    "    //namesToIndex.Select(i => $\"{i.Key}: {i.Value}\").ToList().ForEach(Console.WriteLine);\n",
    "\n",
    "    var separator = \" ===SG=== \";\n",
    "\n",
    "    var result = originalFull + separator + originalSummary;\n",
    "\n",
    "    foreach(var name in namesToIndex.Keys.OrderByDescending(x => x.Length)) {\n",
    "        //Console.WriteLine($\"replacing: {name}\");\n",
    "        //result = result.Replace(name, $\"CHARACTER{namesToIndex[name]}\");\n",
    "        //result = result.Replace(name.ToUpper(), $\"CHARACTER{namesToIndex[name]}\");\n",
    "\n",
    "        result = ReplaceWholeWord(result, name, $\"CHARACTER{namesToIndex[name]}\");\n",
    "        result = ReplaceWholeWord(result, name.ToUpper(), $\"CHARACTER{namesToIndex[name]}\");\n",
    "    }\n",
    "\n",
    "    var resultParts = result.Split(separator);\n",
    "\n",
    "    return (resultParts[0], resultParts[1], namesToIndex);\n",
    "}\n",
    "\n",
    "private string DeAnonymize(string text, Dictionary<string, int> namesToIndex, bool useShortestName) {\n",
    "    // given a string like \"CHARACTER0 talks with CHARACTER1\" we use namesToIndex to replace them with the shortest real names found\n",
    "\n",
    "    for(var i=0; i < 10; i++) { // assume max of 10 possible characters\n",
    "        var possibleNames = namesToIndex.Where(kvp => kvp.Value == i).ToDictionary(kvp => kvp.Key, kvp => kvp.Value);\n",
    "        //possibleNames.Select(i => $\"{i.Key}: {i.Value}\").ToList().ForEach(Console.WriteLine);\n",
    "\n",
    "        var possibleNamesList = possibleNames.Select(kvp => kvp.Key);\n",
    "        \n",
    "        if (useShortestName) {\n",
    "            possibleNamesList = possibleNamesList.OrderBy(x => x.Length);\n",
    "        } else {\n",
    "            possibleNamesList = possibleNamesList.OrderByDescending(x => x.Length);\n",
    "        }\n",
    "        \n",
    "        var shortestName = possibleNamesList.ToList().FirstOrDefault();\n",
    "\n",
    "        if (shortestName != null) {\n",
    "            text = text.Replace($\"CHARACTER{i}\", shortestName);\n",
    "        }\n",
    "    }\n",
    "\n",
    "    return text;\n",
    "}"
   ]
  },
  {
   "cell_type": "code",
   "execution_count": null,
   "metadata": {
    "dotnet_interactive": {
     "language": "csharp"
    },
    "vscode": {
     "languageId": "dotnet-interactive.csharp"
    }
   },
   "outputs": [
    {
     "data": {
      "text/plain": [
       "CHARACTER0 and CHARACTER1 fight as CHARACTER2 and another man look on. CHARACTER0 grabs CHARACTER1 and CHARACTER2 and the other man are like whoa."
      ]
     },
     "metadata": {},
     "output_type": "display_data"
    }
   ],
   "source": [
    "var test1 = \"EDWARD spoke to Will in his Paris apartment, after going to Pizza Hut for dinner with Mary and SPIDER MAN. Later, Mary and WILL go dancing.\";\n",
    "var test2 = \"Tony and Stane fight as Spider Man and another man look on. STARK grabs OBADIAH and SPIDER MAN and the other man are like whoa.\";\n",
    "var test3 = \"Tony Stark and Obadiah Stane fight.\";\n",
    "//List<string> knownCharacterNames = new(){ \"Edward\", \"Will\", \"Mary\", \"Spider Man\" }; // optional list we can get from the Character list. Names like \"Will\" and \"Spider Man\" don't match on their own\n",
    "List<string> knownCharacterNames = new(){ \"Tony Stark\", \"Obadiah Stane\", \"Spider Man\" };\n",
    "//List<string> knownCharacterNames = new(){ \"Tony\", \"Obadiah\", \"Spider Man\" };\n",
    "//List<string> knownCharacterNames = new();\n",
    "\n",
    "var (anonymizedFullText, anonymizedSummaryText, namesToIndex) = await AnonymizeCharacters(test2, \"summary goes here\", knownCharacterNames);\n",
    "\n",
    "anonymizedFullText"
   ]
  },
  {
   "cell_type": "code",
   "execution_count": null,
   "metadata": {
    "dotnet_interactive": {
     "language": "csharp"
    },
    "vscode": {
     "languageId": "dotnet-interactive.csharp"
    }
   },
   "outputs": [
    {
     "data": {
      "text/plain": [
       "Tony Stark and Obadiah Stane fight as Spider Man and another man look on. Tony Stark grabs Obadiah Stane and Spider Man and the other man are like whoa."
      ]
     },
     "metadata": {},
     "output_type": "display_data"
    }
   ],
   "source": [
    "var reverseTest1 = \"CHARACTER0 and CHARACTER1 fight as CHARACTER2 and another man look on. CHARACTER0 grabs CHARACTER1 and CHARACTER2 and the other man are like whoa.\";\n",
    "\n",
    "var deAnonTest = DeAnonymize(reverseTest1, namesToIndex, false);\n",
    "deAnonTest"
   ]
  },
  {
   "cell_type": "code",
   "execution_count": null,
   "metadata": {
    "dotnet_interactive": {
     "language": "csharp"
    },
    "vscode": {
     "languageId": "dotnet-interactive.csharp"
    }
   },
   "outputs": [
    {
     "name": "stdout",
     "output_type": "stream",
     "text": [
      "DETECTED: \r\n"
     ]
    },
    {
     "data": {
      "text/plain": [
       "\r\n",
       "CHARACTER0 and CHARACTER1 and the whole village celebrates CHARACTER0's victory. CHARACTER2 brags to all that his son is a Kung CHARACTER1 warrior. The Furious Five call CHARACTER0 master and everyone bows in respect to him. CHARACTER1 acknowledges that CHARACTER0 is indeed the Dragon Warrior and is grateful to CHARACTER0 for finally bringing peace to the valley and to him.\r\n"
      ]
     },
     "metadata": {},
     "output_type": "display_data"
    }
   ],
   "source": [
    "var realFull0 = @\"\n",
    "Po and Shi Fu and the whole village celebrates Po's victory. Mr. Ping brags to all that his son is a Kung Fu warrior. The Furious Five call Po master and everyone bows in respect to him. Shi Fu acknowledges that Po is indeed the Dragon Warrior and is grateful to Po for finally bringing peace to the valley and to him.\n",
    "\";\n",
    "\n",
    "var realFull1 = @\"\n",
    "EXT. BLOOM HOUSE [MID/LATE '70'S] - DAY \n",
    "\n",
    "Sandra is watering the garden. Will (5) runs past her to greet Edward, just returned from another trip.\n",
    "\n",
    "EDWARD (V.O.)\n",
    "Ten thousand dollars is no fortune to most men. But it was enough to buy my wife a proper house with a white picket fence.\n",
    "\n",
    "We reveal the Bloom house, the nicest one in the neighborhood. Edward kisses his wife.\n",
    "\n",
    "EDWARD (V.O.)\n",
    "And for that, it was all the riches a man could ever want.\n",
    "\n",
    "Sandra drops the hose, letting it run on the lawn.\n",
    "\n",
    "TRANSITION TO:\n",
    "\";\n",
    "\n",
    "var realSummary0 = \"Po gains the respect of Shi Fu and the Furious Five.\";\n",
    "var realSummary1 = \"Edward returns home to his wife Sandra, and young Will. Edward spends the $10,000 on buying a nice house for his family.\";\n",
    "\n",
    "List<string> knownCharacterNames0 = new(){\"Po\", \"Shi Fu\", \"Mr. Ping\"};\n",
    "List<string> knownCharacterNames1 = new(){\"Edward Bloom\", \"Don Price\", \"Sandra Templeton\", \"Will\"};\n",
    "\n",
    "var (anonymizedFullText, anonymizedSummaryText, namesToIndex) = await AnonymizeCharacters(realFull0, realSummary0, knownCharacterNames0);\n",
    "\n",
    "anonymizedFullText"
   ]
  },
  {
   "cell_type": "code",
   "execution_count": null,
   "metadata": {
    "dotnet_interactive": {
     "language": "csharp"
    },
    "vscode": {
     "languageId": "dotnet-interactive.csharp"
    }
   },
   "outputs": [
    {
     "data": {
      "text/html": [
       "<table><thead><tr><th><i>key</i></th><th>value</th></tr></thead><tbody><tr><td>Po</td><td><div class=\"dni-plaintext\">0</div></td></tr><tr><td>PO</td><td><div class=\"dni-plaintext\">0</div></td></tr><tr><td>Shi Fu</td><td><div class=\"dni-plaintext\">1</div></td></tr><tr><td>SHI FU</td><td><div class=\"dni-plaintext\">1</div></td></tr><tr><td>Shi</td><td><div class=\"dni-plaintext\">1</div></td></tr><tr><td>SHI</td><td><div class=\"dni-plaintext\">1</div></td></tr><tr><td>Fu</td><td><div class=\"dni-plaintext\">1</div></td></tr><tr><td>FU</td><td><div class=\"dni-plaintext\">1</div></td></tr></tbody></table>"
      ]
     },
     "metadata": {},
     "output_type": "display_data"
    }
   ],
   "source": [
    "namesToIndex"
   ]
  },
  {
   "cell_type": "code",
   "execution_count": null,
   "metadata": {
    "dotnet_interactive": {
     "language": "csharp"
    },
    "vscode": {
     "languageId": "dotnet-interactive.csharp"
    }
   },
   "outputs": [
    {
     "data": {
      "text/plain": [
       "Amos Calloway turns back into a human, and thanks Edward Hill, telling him the girl's name is Sandra Templeton, and she's going to Auburn. Edward Hill bids farewell to Karl and heads to Auburn."
      ]
     },
     "metadata": {},
     "output_type": "display_data"
    }
   ],
   "source": [
    "// for the admin workflow, I start with a full screenplay scene, anonymize it, which generates an anonymized summary, then\n",
    "// I need to replace back with real character names. In this case, it's ok that we lose the all uppercase of the screenplay format.\n",
    "var deAnonTest = DeAnonymize(anonymizedSummaryText, namesToIndex, false);\n",
    "deAnonTest"
   ]
  },
  {
   "cell_type": "code",
   "execution_count": null,
   "metadata": {
    "dotnet_interactive": {
     "language": "csharp"
    },
    "vscode": {
     "languageId": "dotnet-interactive.csharp"
    }
   },
   "outputs": [],
   "source": []
  }
 ],
 "metadata": {
  "kernelspec": {
   "display_name": ".NET (C#)",
   "language": "C#",
   "name": ".net-csharp"
  },
  "language_info": {
   "file_extension": ".cs",
   "mimetype": "text/x-csharp",
   "name": "C#",
   "pygments_lexer": "csharp",
   "version": "9.0"
  },
  "orig_nbformat": 4
 },
 "nbformat": 4,
 "nbformat_minor": 2
}
